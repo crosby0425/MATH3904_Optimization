{
 "cells": [
  {
   "cell_type": "markdown",
   "metadata": {},
   "source": [
    "Golden Section Method"
   ]
  },
  {
   "cell_type": "code",
   "execution_count": 9,
   "metadata": {},
   "outputs": [],
   "source": [
    "import numpy as np"
   ]
  },
  {
   "cell_type": "code",
   "execution_count": 10,
   "metadata": {},
   "outputs": [
    {
     "name": "stdout",
     "output_type": "stream",
     "text": [
      "[4.829710109982334, 5]\n",
      "[[-3, 5], [0.05572809000084078, 5], [1.9442719099991583, 5], [3.111456180001682, 5], [3.832815729997476, 5], [4.278640450004206, 5], [4.55417527999327, 5], [4.7244651700109355, 5], [4.829710109982334, 5]]\n"
     ]
    }
   ],
   "source": [
    "l = .2 # length of uncertainty\n",
    "a, b = -3, 5 # initial interval of uncertainty\n",
    "\n",
    "steps = [[a,b]]\n",
    "\n",
    "k = (-1 + np.sqrt(5))/2\n",
    "\n",
    "def f(x):\n",
    "    return x**2 + 2*x\n",
    "\n",
    "while b - a > l:\n",
    "    c = a + (1 - k) * (b - a)\n",
    "    d = a + k * (b - a)\n",
    "    if f(c) < f(d):\n",
    "        a = c\n",
    "    else:\n",
    "        b = d\n",
    "    steps.append([a, b])\n",
    "\n",
    "print(steps[-1])\n",
    "print(steps)"
   ]
  }
 ],
 "metadata": {
  "kernelspec": {
   "display_name": "Python 3",
   "language": "python",
   "name": "python3"
  },
  "language_info": {
   "codemirror_mode": {
    "name": "ipython",
    "version": 3
   },
   "file_extension": ".py",
   "mimetype": "text/x-python",
   "name": "python",
   "nbconvert_exporter": "python",
   "pygments_lexer": "ipython3",
   "version": "3.11.4"
  }
 },
 "nbformat": 4,
 "nbformat_minor": 2
}
