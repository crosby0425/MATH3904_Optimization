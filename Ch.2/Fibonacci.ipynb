{
 "cells": [
  {
   "cell_type": "markdown",
   "metadata": {},
   "source": [
    "Fibonacci Search Method"
   ]
  },
  {
   "cell_type": "code",
   "execution_count": 8,
   "metadata": {},
   "outputs": [],
   "source": [
    "import numpy as np"
   ]
  },
  {
   "cell_type": "code",
   "execution_count": 11,
   "metadata": {},
   "outputs": [
    {
     "name": "stdout",
     "output_type": "stream",
     "text": [
      "4.529411764705882 4.764705882352941\n"
     ]
    },
    {
     "data": {
      "text/plain": [
       "[[-3,\n",
       "  5,\n",
       "  0.0588235294117645,\n",
       "  1.9411764705882355,\n",
       "  0.12110726643598571,\n",
       "  7.65051903114187],\n",
       " [0.0588235294117645,\n",
       "  5,\n",
       "  1.941176470588235,\n",
       "  3.1176470588235294,\n",
       "  7.650519031141867,\n",
       "  15.955017301038062],\n",
       " [1.941176470588235,\n",
       "  5,\n",
       "  3.1176470588235294,\n",
       "  3.8235294117647056,\n",
       "  15.955017301038062,\n",
       "  22.266435986159166],\n",
       " [3.1176470588235294,\n",
       "  5,\n",
       "  3.8235294117647056,\n",
       "  4.294117647058823,\n",
       "  22.266435986159166,\n",
       "  27.027681660899653],\n",
       " [3.8235294117647056,\n",
       "  5,\n",
       "  4.294117647058823,\n",
       "  4.529411764705882,\n",
       "  27.027681660899653,\n",
       "  29.57439446366782],\n",
       " [4.294117647058823,\n",
       "  5,\n",
       "  4.529411764705882,\n",
       "  4.764705882352941,\n",
       "  29.57439446366782,\n",
       "  32.2318339100346],\n",
       " [4.529411764705882,\n",
       "  5,\n",
       "  4.764705882352941,\n",
       "  4.764705882352941,\n",
       "  32.2318339100346,\n",
       "  32.2318339100346],\n",
       " [4.529411764705882,\n",
       "  4.764705882352941,\n",
       "  12.529411764705884,\n",
       "  4.764705882352941,\n",
       "  182.04498269896197,\n",
       "  32.2318339100346],\n",
       " [4.529411764705882,\n",
       "  4.764705882352941,\n",
       "  9.47058823529412,\n",
       "  12.529411764705884,\n",
       "  108.63321799307963,\n",
       "  182.04498269896197]]"
      ]
     },
     "execution_count": 11,
     "metadata": {},
     "output_type": "execute_result"
    }
   ],
   "source": [
    "l = .2 # length of uncertainty\n",
    "a, b = -3, 5 # initial interval of uncertainty\n",
    "def f(x):\n",
    "    return x**2 + 2*x\n",
    "\n",
    "k = b-a/l\n",
    "fibonacci = [1,1]\n",
    "while fibonacci[-1] < k:\n",
    "    fibonacci.append(fibonacci[-1] + fibonacci[-2])\n",
    "fibonacci.append(fibonacci[-1] + fibonacci[-2])\n",
    "# fibonacci = [round((1/np.sqrt(5)) * (((1+np.sqrt(5))/2)**i - ((1-np.sqrt(5))/2)**i)) for i in range(1, n+1)]\n",
    "steps = []\n",
    "n = len(fibonacci)\n",
    "\n",
    "for i in range(1, n+1):\n",
    "    c = a + fibonacci[n-i-2]/fibonacci[n-i] * (b-a)\n",
    "    d = a + fibonacci[n-i-1]/fibonacci[n-i] * (b-a)\n",
    "    steps.append([a, b, c, d, f(c), f(d)])\n",
    "    if f(c) < f(d):\n",
    "        a = c\n",
    "    else:\n",
    "        b = d\n",
    "\n",
    "print(steps[-1][0], steps[-1][1])\n",
    "steps"
   ]
  },
  {
   "cell_type": "code",
   "execution_count": 12,
   "metadata": {},
   "outputs": [
    {
     "data": {
      "text/plain": [
       "[1, 1, 2, 3, 5, 8, 13, 21, 34]"
      ]
     },
     "execution_count": 12,
     "metadata": {},
     "output_type": "execute_result"
    }
   ],
   "source": [
    "fibonacci"
   ]
  }
 ],
 "metadata": {
  "kernelspec": {
   "display_name": "Python 3",
   "language": "python",
   "name": "python3"
  },
  "language_info": {
   "codemirror_mode": {
    "name": "ipython",
    "version": 3
   },
   "file_extension": ".py",
   "mimetype": "text/x-python",
   "name": "python",
   "nbconvert_exporter": "python",
   "pygments_lexer": "ipython3",
   "version": "3.11.4"
  }
 },
 "nbformat": 4,
 "nbformat_minor": 2
}
